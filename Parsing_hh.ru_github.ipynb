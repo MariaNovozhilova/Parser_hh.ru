{
 "cells": [
  {
   "cell_type": "markdown",
   "metadata": {},
   "source": [
    "# Парсер HeadHunter\n",
    "## Цель:\n",
    "* Сделать парсер для выборки вакансий по актуальным критериям (в этом примере сделана выборка вакансий аналитиков данных с неполной занятостью и удаленные);\n",
    "* Настроить удобный просмотр, анализ зарплат, рейтинг работодателей.\n",
    "\n",
    "## Какие библиотеки и инструменты будем использовать?\n",
    "* requests - для отправки запросов к API HH\n",
    "* pandas - для формирования таблицы \n",
    "* matplotlib, seaborn - визуализация\n",
    "* json - формат обмена данными, будем использовать для декодирования ответов в удобном формате\n",
    "* IPython - для магических штук\n",
    "* BeautifulSoup - библиотека Python для извлечения данных из файлов HTML и XML"
   ]
  },
  {
   "cell_type": "markdown",
   "metadata": {},
   "source": [
    "### Импорт библиотек"
   ]
  },
  {
   "cell_type": "code",
   "execution_count": 2,
   "metadata": {
    "scrolled": true
   },
   "outputs": [],
   "source": [
    "import requests\n",
    "import pandas as pd\n",
    "import numpy as np\n",
    "\n",
    "import json\n",
    "\n",
    "from datetime import datetime, timedelta\n",
    "import time\n",
    "import os\n",
    "from IPython.core.display import display, HTML, clear_output\n",
    "import ipywidgets as widgets\n",
    "from typing import Union\n",
    "\n",
    "import matplotlib.pyplot as plt\n",
    "import seaborn as sns"
   ]
  },
  {
   "cell_type": "markdown",
   "metadata": {},
   "source": [
    "### Делаем выгрузку из HeadHunter\n",
    "Ссылка на API HH: https://github.com/hhru/api \\\n",
    "Для того, чтобы написать запрос используется язык поисковых запросов, задокументированный тут: https://hh.ru/article/1175 \\\n",
    "Фильтрацию можно делать в самом запросе, например, сделать поиск по полю компаний или же по наличию конкретного текста в описании, где COMPANY_NAME - название компании, а DESCRIPTION - описание вакансии. Язык запросов работает и на обычном сайте hh.ru, что бывает полезно."
   ]
  },
  {
   "cell_type": "markdown",
   "metadata": {},
   "source": [
    "Создадим необходимые константы: BASE_URL"
   ]
  },
  {
   "cell_type": "code",
   "execution_count": 2,
   "metadata": {
    "scrolled": true
   },
   "outputs": [],
   "source": [
    "BASE_URL = \"https://api.hh.ru/\"\n",
    "\n",
    "TEXT = f'SQL NAME:(\"Аналитик\" or \"Analyst\" or \"DWH\" or \"BI\" or \"Business Intelligence\" or \"ETL\" or \"КХД\")'\n",
    "\n",
    "dt_now = datetime.now().date()\n",
    "dt_from = dt_now - timedelta(days=7)\n",
    "DATE_TO = dt_now.isoformat() #API требует дату в формате ISO 8601 YYYY-MM-DD или YYYY-MM-DDThh:mm:ss±hhmm\n",
    "DATE_FROM = dt_from.isoformat()\n",
    "\n",
    "VAC_URL = (BASE_URL + \n",
    "           f'vacancies?text={TEXT}&date_from={DATE_FROM}&date_to={DATE_TO}&responses_count_enabled=True&per_page=100'\n",
    ")"
   ]
  },
  {
   "cell_type": "code",
   "execution_count": 3,
   "metadata": {
    "scrolled": true
   },
   "outputs": [],
   "source": [
    "vacancy_df = pd.DataFrame() # создаем датафрейм в который будем сохранять наши данные"
   ]
  },
  {
   "cell_type": "markdown",
   "metadata": {},
   "source": [
    "В выдаче API HH нет опыта работы, поэтому мы укажем его в запросе самостоятельно, чтобы потом делать отборы:"
   ]
  },
  {
   "cell_type": "code",
   "execution_count": 4,
   "metadata": {
    "scrolled": true
   },
   "outputs": [],
   "source": [
    "experiences = ['noExperience',\n",
    "               'between1And3',\n",
    "               'between3And6', \n",
    "               'moreThan6']"
   ]
  },
  {
   "cell_type": "markdown",
   "metadata": {},
   "source": [
    "Напишем цикл для направления запросов к API"
   ]
  },
  {
   "cell_type": "code",
   "execution_count": 5,
   "metadata": {
    "scrolled": true
   },
   "outputs": [
    {
     "name": "stdout",
     "output_type": "stream",
     "text": [
      "noExperience  -  3\n",
      "between1And3  -  20\n",
      "between3And6  -  10\n",
      "moreThan6  -  1\n"
     ]
    }
   ],
   "source": [
    "for exp in experiences:\n",
    "    page = 0\n",
    "    url = VAC_URL + f'&experience={exp}'\n",
    "    try:\n",
    "        r = requests.get(url + f'&page={page}')\n",
    "        data = json.loads(r.text)\n",
    "        print(exp, ' - ', data['pages'])\n",
    "        items = data['items']\n",
    "        for page in range(1,data['pages']):\n",
    "            r = requests.get(url + f'&page={page}')\n",
    "            data = json.loads(r.text)\n",
    "            items += data['items']\n",
    "        df = pd.DataFrame(items)\n",
    "        df['experience'] = exp\n",
    "        vacancy_df = pd.concat([vacancy_df,df])\n",
    "    except Exception as e:\n",
    "        print(exp, ' - ', e)\n",
    "        time.sleep(5)"
   ]
  },
  {
   "cell_type": "code",
   "execution_count": 6,
   "metadata": {},
   "outputs": [],
   "source": [
    "vacancy_df.reset_index(drop=True, inplace=True)"
   ]
  },
  {
   "cell_type": "code",
   "execution_count": 7,
   "metadata": {},
   "outputs": [
    {
     "data": {
      "text/plain": [
       "29"
      ]
     },
     "execution_count": 7,
     "metadata": {},
     "output_type": "execute_result"
    }
   ],
   "source": [
    "vacancy_df.duplicated('id').sum()"
   ]
  },
  {
   "cell_type": "markdown",
   "metadata": {},
   "source": [
    "Кстати, всё-время есть дубликаты по айдишникам вакансии. "
   ]
  },
  {
   "cell_type": "code",
   "execution_count": 8,
   "metadata": {},
   "outputs": [
    {
     "name": "stdout",
     "output_type": "stream",
     "text": [
      "<class 'pandas.core.frame.DataFrame'>\n",
      "RangeIndex: 3250 entries, 0 to 3249\n",
      "Data columns (total 30 columns):\n",
      " #   Column                    Non-Null Count  Dtype \n",
      "---  ------                    --------------  ----- \n",
      " 0   id                        3250 non-null   object\n",
      " 1   premium                   3250 non-null   bool  \n",
      " 2   name                      3250 non-null   object\n",
      " 3   department                431 non-null    object\n",
      " 4   has_test                  3250 non-null   bool  \n",
      " 5   response_letter_required  3250 non-null   bool  \n",
      " 6   area                      3250 non-null   object\n",
      " 7   salary                    630 non-null    object\n",
      " 8   type                      3250 non-null   object\n",
      " 9   address                   1620 non-null   object\n",
      " 10  response_url              0 non-null      object\n",
      " 11  sort_point_distance       0 non-null      object\n",
      " 12  published_at              3250 non-null   object\n",
      " 13  created_at                3250 non-null   object\n",
      " 14  archived                  3250 non-null   bool  \n",
      " 15  apply_alternate_url       3250 non-null   object\n",
      " 16  insider_interview         18 non-null     object\n",
      " 17  url                       3250 non-null   object\n",
      " 18  alternate_url             3250 non-null   object\n",
      " 19  relations                 3250 non-null   object\n",
      " 20  employer                  3250 non-null   object\n",
      " 21  snippet                   3250 non-null   object\n",
      " 22  contacts                  0 non-null      object\n",
      " 23  schedule                  3250 non-null   object\n",
      " 24  counters                  3250 non-null   object\n",
      " 25  working_days              3250 non-null   object\n",
      " 26  working_time_intervals    3250 non-null   object\n",
      " 27  working_time_modes        3250 non-null   object\n",
      " 28  accept_temporary          3250 non-null   bool  \n",
      " 29  experience                3250 non-null   object\n",
      "dtypes: bool(5), object(25)\n",
      "memory usage: 650.8+ KB\n"
     ]
    }
   ],
   "source": [
    "vacancy_df.info()"
   ]
  },
  {
   "cell_type": "markdown",
   "metadata": {},
   "source": [
    "Смотрю, что лежит в ячейках столбца schedule. Питон ругается, но всё-равно показывает:"
   ]
  },
  {
   "cell_type": "code",
   "execution_count": 34,
   "metadata": {},
   "outputs": [
    {
     "ename": "TypeError",
     "evalue": "unhashable type: 'dict'",
     "output_type": "error",
     "traceback": [
      "\u001b[0;31m---------------------------------------------------------------------------\u001b[0m",
      "\u001b[0;31mTypeError\u001b[0m                                 Traceback (most recent call last)",
      "\u001b[0;32mpandas/_libs/hashtable_class_helper.pxi\u001b[0m in \u001b[0;36mpandas._libs.hashtable.PyObjectHashTable.map_locations\u001b[0;34m()\u001b[0m\n",
      "\u001b[0;31mTypeError\u001b[0m: unhashable type: 'dict'"
     ]
    },
    {
     "name": "stderr",
     "output_type": "stream",
     "text": [
      "Exception ignored in: 'pandas._libs.index.IndexEngine._call_map_locations'\n",
      "Traceback (most recent call last):\n",
      "  File \"pandas/_libs/hashtable_class_helper.pxi\", line 1652, in pandas._libs.hashtable.PyObjectHashTable.map_locations\n",
      "TypeError: unhashable type: 'dict'\n"
     ]
    },
    {
     "data": {
      "text/plain": [
       "{'id': 'fullDay', 'name': 'Полный день'}           2374\n",
       "{'id': 'remote', 'name': 'Удаленная работа'}        758\n",
       "{'id': 'flexible', 'name': 'Гибкий график'}         111\n",
       "{'id': 'shift', 'name': 'Сменный график'}             6\n",
       "{'id': 'flyInFlyOut', 'name': 'Вахтовый метод'}       1\n",
       "Name: schedule, dtype: int64"
      ]
     },
     "execution_count": 34,
     "metadata": {},
     "output_type": "execute_result"
    }
   ],
   "source": [
    "vacancy_df['schedule'].value_counts()"
   ]
  },
  {
   "cell_type": "markdown",
   "metadata": {},
   "source": [
    "На этом этапе я снова выкачиваю все вакансии, теперь делаю цикл по видам занятости:"
   ]
  },
  {
   "cell_type": "code",
   "execution_count": 35,
   "metadata": {},
   "outputs": [],
   "source": [
    "employment = [\"full\",\n",
    "              \"part\",\n",
    "              \"project\",\n",
    "              \"volunteer\",\n",
    "              \"probation\"]"
   ]
  },
  {
   "cell_type": "code",
   "execution_count": 36,
   "metadata": {},
   "outputs": [],
   "source": [
    "vacancy_df2 = pd.DataFrame()"
   ]
  },
  {
   "cell_type": "code",
   "execution_count": 37,
   "metadata": {},
   "outputs": [
    {
     "name": "stdout",
     "output_type": "stream",
     "text": [
      "full  -  20\n",
      "part  -  1\n",
      "project  -  1\n",
      "volunteer  -  1\n",
      "probation  -  1\n"
     ]
    }
   ],
   "source": [
    "for emp in employment:\n",
    "    page = 0\n",
    "    url = VAC_URL + f'&employment={emp}'\n",
    "    try:\n",
    "        r = requests.get(url + f'&page={page}')\n",
    "        data = json.loads(r.text)\n",
    "        print(emp, ' - ', data['pages'])\n",
    "        items = data['items']\n",
    "        for page in range(1,data['pages']):\n",
    "            r = requests.get(url + f'&page={page}')\n",
    "            data = json.loads(r.text)\n",
    "            items += data['items']\n",
    "        df = pd.DataFrame(items)\n",
    "        df['employment'] = emp\n",
    "        vacancy_df2 = pd.concat([vacancy_df2,df])\n",
    "    except Exception as e:\n",
    "        print(emp, ' - ', e)\n",
    "        time.sleep(5)"
   ]
  },
  {
   "cell_type": "code",
   "execution_count": 38,
   "metadata": {},
   "outputs": [],
   "source": [
    "vacancy_df2['id'] = vacancy_df2['id'].astype('int64')\n",
    "vacancy_df['id'] = vacancy_df['id'].astype('int64')"
   ]
  },
  {
   "cell_type": "markdown",
   "metadata": {},
   "source": [
    "обрежу во втором датафрейме все столбцы кроме нужной мне занятости"
   ]
  },
  {
   "cell_type": "code",
   "execution_count": 39,
   "metadata": {},
   "outputs": [],
   "source": [
    "vacancy_df2 = vacancy_df2[['id','employment']]"
   ]
  },
  {
   "cell_type": "code",
   "execution_count": 40,
   "metadata": {},
   "outputs": [
    {
     "data": {
      "text/html": [
       "<div>\n",
       "<style scoped>\n",
       "    .dataframe tbody tr th:only-of-type {\n",
       "        vertical-align: middle;\n",
       "    }\n",
       "\n",
       "    .dataframe tbody tr th {\n",
       "        vertical-align: top;\n",
       "    }\n",
       "\n",
       "    .dataframe thead th {\n",
       "        text-align: right;\n",
       "    }\n",
       "</style>\n",
       "<table border=\"1\" class=\"dataframe\">\n",
       "  <thead>\n",
       "    <tr style=\"text-align: right;\">\n",
       "      <th></th>\n",
       "      <th>id</th>\n",
       "      <th>employment</th>\n",
       "    </tr>\n",
       "  </thead>\n",
       "  <tbody>\n",
       "    <tr>\n",
       "      <th>0</th>\n",
       "      <td>52327154</td>\n",
       "      <td>full</td>\n",
       "    </tr>\n",
       "    <tr>\n",
       "      <th>1</th>\n",
       "      <td>52130534</td>\n",
       "      <td>full</td>\n",
       "    </tr>\n",
       "    <tr>\n",
       "      <th>2</th>\n",
       "      <td>52337607</td>\n",
       "      <td>full</td>\n",
       "    </tr>\n",
       "    <tr>\n",
       "      <th>3</th>\n",
       "      <td>52321521</td>\n",
       "      <td>full</td>\n",
       "    </tr>\n",
       "    <tr>\n",
       "      <th>4</th>\n",
       "      <td>46630220</td>\n",
       "      <td>full</td>\n",
       "    </tr>\n",
       "  </tbody>\n",
       "</table>\n",
       "</div>"
      ],
      "text/plain": [
       "         id employment\n",
       "0  52327154       full\n",
       "1  52130534       full\n",
       "2  52337607       full\n",
       "3  52321521       full\n",
       "4  46630220       full"
      ]
     },
     "execution_count": 40,
     "metadata": {},
     "output_type": "execute_result"
    }
   ],
   "source": [
    "vacancy_df2.head()"
   ]
  },
  {
   "cell_type": "markdown",
   "metadata": {},
   "source": [
    "и мержу два датафрейма по айди вакансий"
   ]
  },
  {
   "cell_type": "code",
   "execution_count": 41,
   "metadata": {},
   "outputs": [],
   "source": [
    "vacancy_df = vacancy_df.merge(vacancy_df2, on='id', how='left')"
   ]
  },
  {
   "cell_type": "code",
   "execution_count": 42,
   "metadata": {},
   "outputs": [
    {
     "name": "stdout",
     "output_type": "stream",
     "text": [
      "<class 'pandas.core.frame.DataFrame'>\n",
      "Int64Index: 3263 entries, 0 to 3262\n",
      "Data columns (total 31 columns):\n",
      " #   Column                    Non-Null Count  Dtype \n",
      "---  ------                    --------------  ----- \n",
      " 0   id                        3263 non-null   int64 \n",
      " 1   premium                   3263 non-null   bool  \n",
      " 2   name                      3263 non-null   object\n",
      " 3   department                431 non-null    object\n",
      " 4   has_test                  3263 non-null   bool  \n",
      " 5   response_letter_required  3263 non-null   bool  \n",
      " 6   area                      3263 non-null   object\n",
      " 7   salary                    632 non-null    object\n",
      " 8   type                      3263 non-null   object\n",
      " 9   address                   1628 non-null   object\n",
      " 10  response_url              0 non-null      object\n",
      " 11  sort_point_distance       0 non-null      object\n",
      " 12  published_at              3263 non-null   object\n",
      " 13  created_at                3263 non-null   object\n",
      " 14  archived                  3263 non-null   bool  \n",
      " 15  apply_alternate_url       3263 non-null   object\n",
      " 16  insider_interview         18 non-null     object\n",
      " 17  url                       3263 non-null   object\n",
      " 18  alternate_url             3263 non-null   object\n",
      " 19  relations                 3263 non-null   object\n",
      " 20  employer                  3263 non-null   object\n",
      " 21  snippet                   3263 non-null   object\n",
      " 22  contacts                  0 non-null      object\n",
      " 23  schedule                  3263 non-null   object\n",
      " 24  counters                  3263 non-null   object\n",
      " 25  working_days              3263 non-null   object\n",
      " 26  working_time_intervals    3263 non-null   object\n",
      " 27  working_time_modes        3263 non-null   object\n",
      " 28  accept_temporary          3263 non-null   bool  \n",
      " 29  experience                3263 non-null   object\n",
      " 30  employment                2040 non-null   object\n",
      "dtypes: bool(5), int64(1), object(25)\n",
      "memory usage: 704.2+ KB\n"
     ]
    }
   ],
   "source": [
    "vacancy_df.info()"
   ]
  },
  {
   "cell_type": "markdown",
   "metadata": {},
   "source": [
    "### Вытащим ценную информацию из словарей"
   ]
  },
  {
   "cell_type": "code",
   "execution_count": 43,
   "metadata": {},
   "outputs": [],
   "source": [
    "def return_id(x, key='id', nan_value = np.nan):\n",
    "    try:\n",
    "        return x[key]\n",
    "    except Exception as e:\n",
    "        return nan_value"
   ]
  },
  {
   "cell_type": "code",
   "execution_count": 44,
   "metadata": {},
   "outputs": [],
   "source": [
    "vacancy_df['employer_name'] = vacancy_df['employer'].apply(return_id, key='name')\n",
    "vacancy_df['department_name'] = vacancy_df['department'].apply(return_id, key='name')\n",
    "vacancy_df['salary_from'] = vacancy_df['salary'].apply(return_id, key='from')\n",
    "vacancy_df['salary_to'] = vacancy_df['salary'].apply(return_id, key='to')\n",
    "vacancy_df['salary_gross'] = vacancy_df['salary'].apply(return_id, key='gross')\n",
    "vacancy_df['salary_currency'] = vacancy_df['salary'].apply(return_id, key='currency')\n",
    "vacancy_df['responses'] = vacancy_df['counters'].apply(return_id, key='responses')\n",
    "vacancy_df['city'] = vacancy_df['area'].apply(return_id, key='name')\n",
    "vacancy_df['schedule_type'] = vacancy_df['schedule'].apply(return_id, key='id')"
   ]
  },
  {
   "cell_type": "markdown",
   "metadata": {},
   "source": [
    "Лишние столбцы удаляю"
   ]
  },
  {
   "cell_type": "code",
   "execution_count": 45,
   "metadata": {},
   "outputs": [],
   "source": [
    "vacancy_df.drop(\n",
    "    columns = ['type', 'contacts', 'premium','response_url',\n",
    "               'sort_point_distance','relations','employer','schedule','department'], inplace=True)"
   ]
  },
  {
   "cell_type": "code",
   "execution_count": 46,
   "metadata": {},
   "outputs": [
    {
     "data": {
      "text/html": [
       "<div>\n",
       "<style scoped>\n",
       "    .dataframe tbody tr th:only-of-type {\n",
       "        vertical-align: middle;\n",
       "    }\n",
       "\n",
       "    .dataframe tbody tr th {\n",
       "        vertical-align: top;\n",
       "    }\n",
       "\n",
       "    .dataframe thead th {\n",
       "        text-align: right;\n",
       "    }\n",
       "</style>\n",
       "<table border=\"1\" class=\"dataframe\">\n",
       "  <thead>\n",
       "    <tr style=\"text-align: right;\">\n",
       "      <th></th>\n",
       "      <th>0</th>\n",
       "    </tr>\n",
       "  </thead>\n",
       "  <tbody>\n",
       "    <tr>\n",
       "      <th>id</th>\n",
       "      <td>49832942</td>\n",
       "    </tr>\n",
       "    <tr>\n",
       "      <th>name</th>\n",
       "      <td>Аналитик</td>\n",
       "    </tr>\n",
       "    <tr>\n",
       "      <th>has_test</th>\n",
       "      <td>False</td>\n",
       "    </tr>\n",
       "    <tr>\n",
       "      <th>response_letter_required</th>\n",
       "      <td>False</td>\n",
       "    </tr>\n",
       "    <tr>\n",
       "      <th>area</th>\n",
       "      <td>{'id': '1', 'name': 'Москва', 'url': 'https://...</td>\n",
       "    </tr>\n",
       "    <tr>\n",
       "      <th>salary</th>\n",
       "      <td>None</td>\n",
       "    </tr>\n",
       "    <tr>\n",
       "      <th>address</th>\n",
       "      <td>None</td>\n",
       "    </tr>\n",
       "    <tr>\n",
       "      <th>published_at</th>\n",
       "      <td>2022-02-11T13:26:27+0300</td>\n",
       "    </tr>\n",
       "    <tr>\n",
       "      <th>created_at</th>\n",
       "      <td>2022-02-11T13:26:27+0300</td>\n",
       "    </tr>\n",
       "    <tr>\n",
       "      <th>archived</th>\n",
       "      <td>False</td>\n",
       "    </tr>\n",
       "    <tr>\n",
       "      <th>apply_alternate_url</th>\n",
       "      <td>https://hh.ru/applicant/vacancy_response?vacan...</td>\n",
       "    </tr>\n",
       "    <tr>\n",
       "      <th>insider_interview</th>\n",
       "      <td>None</td>\n",
       "    </tr>\n",
       "    <tr>\n",
       "      <th>url</th>\n",
       "      <td>https://api.hh.ru/vacancies/49832942?host=hh.ru</td>\n",
       "    </tr>\n",
       "    <tr>\n",
       "      <th>alternate_url</th>\n",
       "      <td>https://hh.ru/vacancy/49832942</td>\n",
       "    </tr>\n",
       "    <tr>\n",
       "      <th>snippet</th>\n",
       "      <td>{'requirement': 'Понимание построения информац...</td>\n",
       "    </tr>\n",
       "    <tr>\n",
       "      <th>counters</th>\n",
       "      <td>{'responses': 6}</td>\n",
       "    </tr>\n",
       "    <tr>\n",
       "      <th>working_days</th>\n",
       "      <td>[]</td>\n",
       "    </tr>\n",
       "    <tr>\n",
       "      <th>working_time_intervals</th>\n",
       "      <td>[]</td>\n",
       "    </tr>\n",
       "    <tr>\n",
       "      <th>working_time_modes</th>\n",
       "      <td>[]</td>\n",
       "    </tr>\n",
       "    <tr>\n",
       "      <th>accept_temporary</th>\n",
       "      <td>False</td>\n",
       "    </tr>\n",
       "    <tr>\n",
       "      <th>experience</th>\n",
       "      <td>noExperience</td>\n",
       "    </tr>\n",
       "    <tr>\n",
       "      <th>employment</th>\n",
       "      <td>full</td>\n",
       "    </tr>\n",
       "    <tr>\n",
       "      <th>employer_name</th>\n",
       "      <td>Спортмастер</td>\n",
       "    </tr>\n",
       "    <tr>\n",
       "      <th>department_name</th>\n",
       "      <td>Компания «СПОРТМАСТЕР», SM Lab</td>\n",
       "    </tr>\n",
       "    <tr>\n",
       "      <th>salary_from</th>\n",
       "      <td>NaN</td>\n",
       "    </tr>\n",
       "    <tr>\n",
       "      <th>salary_to</th>\n",
       "      <td>NaN</td>\n",
       "    </tr>\n",
       "    <tr>\n",
       "      <th>salary_gross</th>\n",
       "      <td>NaN</td>\n",
       "    </tr>\n",
       "    <tr>\n",
       "      <th>salary_currency</th>\n",
       "      <td>NaN</td>\n",
       "    </tr>\n",
       "    <tr>\n",
       "      <th>responses</th>\n",
       "      <td>6</td>\n",
       "    </tr>\n",
       "    <tr>\n",
       "      <th>city</th>\n",
       "      <td>Москва</td>\n",
       "    </tr>\n",
       "    <tr>\n",
       "      <th>schedule_type</th>\n",
       "      <td>fullDay</td>\n",
       "    </tr>\n",
       "  </tbody>\n",
       "</table>\n",
       "</div>"
      ],
      "text/plain": [
       "                                                                          0\n",
       "id                                                                 49832942\n",
       "name                                                               Аналитик\n",
       "has_test                                                              False\n",
       "response_letter_required                                              False\n",
       "area                      {'id': '1', 'name': 'Москва', 'url': 'https://...\n",
       "salary                                                                 None\n",
       "address                                                                None\n",
       "published_at                                       2022-02-11T13:26:27+0300\n",
       "created_at                                         2022-02-11T13:26:27+0300\n",
       "archived                                                              False\n",
       "apply_alternate_url       https://hh.ru/applicant/vacancy_response?vacan...\n",
       "insider_interview                                                      None\n",
       "url                         https://api.hh.ru/vacancies/49832942?host=hh.ru\n",
       "alternate_url                                https://hh.ru/vacancy/49832942\n",
       "snippet                   {'requirement': 'Понимание построения информац...\n",
       "counters                                                   {'responses': 6}\n",
       "working_days                                                             []\n",
       "working_time_intervals                                                   []\n",
       "working_time_modes                                                       []\n",
       "accept_temporary                                                      False\n",
       "experience                                                     noExperience\n",
       "employment                                                             full\n",
       "employer_name                                                   Спортмастер\n",
       "department_name                              Компания «СПОРТМАСТЕР», SM Lab\n",
       "salary_from                                                             NaN\n",
       "salary_to                                                               NaN\n",
       "salary_gross                                                            NaN\n",
       "salary_currency                                                         NaN\n",
       "responses                                                                 6\n",
       "city                                                                 Москва\n",
       "schedule_type                                                       fullDay"
      ]
     },
     "execution_count": 46,
     "metadata": {},
     "output_type": "execute_result"
    }
   ],
   "source": [
    "vacancy_df.head(1).T"
   ]
  },
  {
   "cell_type": "markdown",
   "metadata": {},
   "source": [
    "### Про дубликаты"
   ]
  },
  {
   "cell_type": "code",
   "execution_count": 47,
   "metadata": {
    "scrolled": true
   },
   "outputs": [
    {
     "data": {
      "text/html": [
       "<div>\n",
       "<style scoped>\n",
       "    .dataframe tbody tr th:only-of-type {\n",
       "        vertical-align: middle;\n",
       "    }\n",
       "\n",
       "    .dataframe tbody tr th {\n",
       "        vertical-align: top;\n",
       "    }\n",
       "\n",
       "    .dataframe thead th {\n",
       "        text-align: right;\n",
       "    }\n",
       "</style>\n",
       "<table border=\"1\" class=\"dataframe\">\n",
       "  <thead>\n",
       "    <tr style=\"text-align: right;\">\n",
       "      <th></th>\n",
       "      <th>employer_name</th>\n",
       "      <th>name</th>\n",
       "      <th>city</th>\n",
       "      <th>experience</th>\n",
       "    </tr>\n",
       "  </thead>\n",
       "  <tbody>\n",
       "    <tr>\n",
       "      <th>1810</th>\n",
       "      <td>Велес</td>\n",
       "      <td>BI Developer</td>\n",
       "      <td>Сочи</td>\n",
       "      <td>between1And3</td>\n",
       "    </tr>\n",
       "    <tr>\n",
       "      <th>1956</th>\n",
       "      <td>Велес</td>\n",
       "      <td>BI Developer</td>\n",
       "      <td>Сочи</td>\n",
       "      <td>between1And3</td>\n",
       "    </tr>\n",
       "    <tr>\n",
       "      <th>1955</th>\n",
       "      <td>Frontier KZ</td>\n",
       "      <td>BI engineer</td>\n",
       "      <td>Алматы</td>\n",
       "      <td>between1And3</td>\n",
       "    </tr>\n",
       "    <tr>\n",
       "      <th>1809</th>\n",
       "      <td>Frontier KZ</td>\n",
       "      <td>BI engineer</td>\n",
       "      <td>Алматы</td>\n",
       "      <td>between1And3</td>\n",
       "    </tr>\n",
       "    <tr>\n",
       "      <th>1952</th>\n",
       "      <td>НМЖК группа компаний</td>\n",
       "      <td>BI Разработчик/BI Developer</td>\n",
       "      <td>Нижний Новгород</td>\n",
       "      <td>between1And3</td>\n",
       "    </tr>\n",
       "    <tr>\n",
       "      <th>...</th>\n",
       "      <td>...</td>\n",
       "      <td>...</td>\n",
       "      <td>...</td>\n",
       "      <td>...</td>\n",
       "    </tr>\n",
       "    <tr>\n",
       "      <th>445</th>\n",
       "      <td>Иннотех, Группа компаний</td>\n",
       "      <td>Финансовый аналитик (Источники данных)</td>\n",
       "      <td>Москва</td>\n",
       "      <td>between1And3</td>\n",
       "    </tr>\n",
       "    <tr>\n",
       "      <th>340</th>\n",
       "      <td>Иннотех, Группа компаний</td>\n",
       "      <td>Финансовый аналитик (Источники данных)</td>\n",
       "      <td>Москва</td>\n",
       "      <td>between1And3</td>\n",
       "    </tr>\n",
       "    <tr>\n",
       "      <th>2749</th>\n",
       "      <td>Первый Украинский Международный банк</td>\n",
       "      <td>Фінансовий аналітик</td>\n",
       "      <td>Киев</td>\n",
       "      <td>between3And6</td>\n",
       "    </tr>\n",
       "    <tr>\n",
       "      <th>1555</th>\n",
       "      <td>Первый Украинский Международный банк</td>\n",
       "      <td>Фінансовий аналітик</td>\n",
       "      <td>Киев</td>\n",
       "      <td>between1And3</td>\n",
       "    </tr>\n",
       "    <tr>\n",
       "      <th>1554</th>\n",
       "      <td>Первый Украинский Международный банк</td>\n",
       "      <td>Фінансовий аналітик</td>\n",
       "      <td>Киев</td>\n",
       "      <td>between1And3</td>\n",
       "    </tr>\n",
       "  </tbody>\n",
       "</table>\n",
       "<p>222 rows × 4 columns</p>\n",
       "</div>"
      ],
      "text/plain": [
       "                             employer_name  \\\n",
       "1810                                 Велес   \n",
       "1956                                 Велес   \n",
       "1955                           Frontier KZ   \n",
       "1809                           Frontier KZ   \n",
       "1952                  НМЖК группа компаний   \n",
       "...                                    ...   \n",
       "445               Иннотех, Группа компаний   \n",
       "340               Иннотех, Группа компаний   \n",
       "2749  Первый Украинский Международный банк   \n",
       "1555  Первый Украинский Международный банк   \n",
       "1554  Первый Украинский Международный банк   \n",
       "\n",
       "                                        name             city    experience  \n",
       "1810                            BI Developer             Сочи  between1And3  \n",
       "1956                            BI Developer             Сочи  between1And3  \n",
       "1955                             BI engineer           Алматы  between1And3  \n",
       "1809                             BI engineer           Алматы  between1And3  \n",
       "1952             BI Разработчик/BI Developer  Нижний Новгород  between1And3  \n",
       "...                                      ...              ...           ...  \n",
       "445   Финансовый аналитик (Источники данных)           Москва  between1And3  \n",
       "340   Финансовый аналитик (Источники данных)           Москва  between1And3  \n",
       "2749                     Фінансовий аналітик             Киев  between3And6  \n",
       "1555                     Фінансовий аналітик             Киев  between1And3  \n",
       "1554                     Фінансовий аналітик             Киев  between1And3  \n",
       "\n",
       "[222 rows x 4 columns]"
      ]
     },
     "execution_count": 47,
     "metadata": {},
     "output_type": "execute_result"
    }
   ],
   "source": [
    "vacancy_df[vacancy_df.duplicated(['employer_name','name','city'], \n",
    "                                 keep=False)][['employer_name','name','city','experience']].sort_values(by=['name'])"
   ]
  },
  {
   "cell_type": "code",
   "execution_count": 48,
   "metadata": {},
   "outputs": [
    {
     "data": {
      "text/plain": [
       "108"
      ]
     },
     "execution_count": 48,
     "metadata": {},
     "output_type": "execute_result"
    }
   ],
   "source": [
    "vacancy_df.duplicated(['employer_name','name','city','experience']).sum()"
   ]
  },
  {
   "cell_type": "code",
   "execution_count": 49,
   "metadata": {},
   "outputs": [
    {
     "data": {
      "text/plain": [
       "42"
      ]
     },
     "execution_count": 49,
     "metadata": {},
     "output_type": "execute_result"
    }
   ],
   "source": [
    "vacancy_df.duplicated(['id']).sum()"
   ]
  },
  {
   "cell_type": "markdown",
   "metadata": {},
   "source": [
    "В выгрузке довольно много дубликатов вакансий, которые при пристальном рассмотрении отличаются незначительными деталями (город, требование к опыту)."
   ]
  },
  {
   "cell_type": "markdown",
   "metadata": {},
   "source": [
    "удалю дублирующие айдишники"
   ]
  },
  {
   "cell_type": "code",
   "execution_count": 50,
   "metadata": {},
   "outputs": [],
   "source": [
    "vacancy_df.drop_duplicates(subset='id',inplace=True)"
   ]
  },
  {
   "cell_type": "code",
   "execution_count": 51,
   "metadata": {},
   "outputs": [],
   "source": [
    "#vacancy_df.loc[[4155,2155]]"
   ]
  },
  {
   "cell_type": "markdown",
   "metadata": {},
   "source": [
    "### Посмотрим компании, предлагающие вакансии, а также города"
   ]
  },
  {
   "cell_type": "code",
   "execution_count": 52,
   "metadata": {},
   "outputs": [
    {
     "data": {
      "image/png": "[encoded data removed]",
      "text/plain": [
       "<Figure size 432x288 with 1 Axes>"
      ]
     },
     "metadata": {
      "needs_background": "light"
     },
     "output_type": "display_data"
    }
   ],
   "source": [
    "vacancy_df['employer_name'].value_counts(normalize=True).head(10).plot(kind='bar');"
   ]
  },
  {
   "cell_type": "code",
   "execution_count": 53,
   "metadata": {},
   "outputs": [
    {
     "data": {
      "image/png": "[encoded data removed]",
      "text/plain": [
       "<Figure size 432x288 with 1 Axes>"
      ]
     },
     "metadata": {
      "needs_background": "light"
     },
     "output_type": "display_data"
    }
   ],
   "source": [
    "vacancy_df['department_name'].value_counts().head(20).plot(kind='bar');"
   ]
  },
  {
   "cell_type": "code",
   "execution_count": 54,
   "metadata": {
    "scrolled": true
   },
   "outputs": [
    {
     "data": {
      "image/png": "[encoded data removed]",
      "text/plain": [
       "<Figure size 432x288 with 1 Axes>"
      ]
     },
     "metadata": {
      "needs_background": "light"
     },
     "output_type": "display_data"
    }
   ],
   "source": [
    "vacancy_df['city'].value_counts().head(10).plot(kind='bar');"
   ]
  },
  {
   "cell_type": "markdown",
   "metadata": {},
   "source": [
    "### Что с зарплатой?"
   ]
  },
  {
   "cell_type": "code",
   "execution_count": 55,
   "metadata": {
    "scrolled": true
   },
   "outputs": [
    {
     "data": {
      "text/plain": [
       "True     0.837318\n",
       "False    0.162682\n",
       "Name: salary_from, dtype: float64"
      ]
     },
     "execution_count": 55,
     "metadata": {},
     "output_type": "execute_result"
    }
   ],
   "source": [
    "vacancy_df['salary_from'].isna().value_counts(normalize=True)"
   ]
  },
  {
   "cell_type": "code",
   "execution_count": 56,
   "metadata": {
    "scrolled": true
   },
   "outputs": [
    {
     "data": {
      "text/plain": [
       "True     0.886371\n",
       "False    0.113629\n",
       "Name: salary_to, dtype: float64"
      ]
     },
     "execution_count": 56,
     "metadata": {},
     "output_type": "execute_result"
    }
   ],
   "source": [
    "vacancy_df['salary_to'].isna().value_counts(normalize=True)"
   ]
  },
  {
   "cell_type": "markdown",
   "metadata": {},
   "source": [
    "В большинстве вакансий зарплата не указана (83-88%)"
   ]
  },
  {
   "cell_type": "code",
   "execution_count": 57,
   "metadata": {
    "scrolled": true
   },
   "outputs": [
    {
     "data": {
      "text/plain": [
       "RUR    0.920382\n",
       "USD    0.046178\n",
       "KZT    0.014331\n",
       "EUR    0.006369\n",
       "UAH    0.006369\n",
       "UZS    0.003185\n",
       "KGS    0.001592\n",
       "BYR    0.001592\n",
       "Name: salary_currency, dtype: float64"
      ]
     },
     "execution_count": 57,
     "metadata": {},
     "output_type": "execute_result"
    }
   ],
   "source": [
    "vacancy_df['salary_currency'].value_counts(normalize=True)"
   ]
  },
  {
   "cell_type": "code",
   "execution_count": 58,
   "metadata": {
    "scrolled": true
   },
   "outputs": [],
   "source": [
    "salaries = vacancy_df.query(\n",
    "    \"salary_currency == 'RUR' and experience in ['noExperience','between1And3']\").groupby(\n",
    "    ['employer_name','department_name']).mean()['salary_from'].reset_index()"
   ]
  },
  {
   "cell_type": "code",
   "execution_count": 59,
   "metadata": {
    "scrolled": true
   },
   "outputs": [
    {
     "data": {
      "text/html": [
       "<div>\n",
       "<style scoped>\n",
       "    .dataframe tbody tr th:only-of-type {\n",
       "        vertical-align: middle;\n",
       "    }\n",
       "\n",
       "    .dataframe tbody tr th {\n",
       "        vertical-align: top;\n",
       "    }\n",
       "\n",
       "    .dataframe thead th {\n",
       "        text-align: right;\n",
       "    }\n",
       "</style>\n",
       "<table border=\"1\" class=\"dataframe\">\n",
       "  <thead>\n",
       "    <tr style=\"text-align: right;\">\n",
       "      <th></th>\n",
       "      <th>employer_name</th>\n",
       "      <th>department_name</th>\n",
       "      <th>salary_from</th>\n",
       "    </tr>\n",
       "  </thead>\n",
       "  <tbody>\n",
       "    <tr>\n",
       "      <th>0</th>\n",
       "      <td>ANCOR</td>\n",
       "      <td>ANCOR</td>\n",
       "      <td>54787.500000</td>\n",
       "    </tr>\n",
       "    <tr>\n",
       "      <th>1</th>\n",
       "      <td>Avilon Group</td>\n",
       "      <td>ГК «Авилон»</td>\n",
       "      <td>190000.000000</td>\n",
       "    </tr>\n",
       "    <tr>\n",
       "      <th>2</th>\n",
       "      <td>HeadHunter</td>\n",
       "      <td>HeadHunter:: IT</td>\n",
       "      <td>170000.000000</td>\n",
       "    </tr>\n",
       "    <tr>\n",
       "      <th>3</th>\n",
       "      <td>Альфа-Банк</td>\n",
       "      <td>Альфа-Банк</td>\n",
       "      <td>NaN</td>\n",
       "    </tr>\n",
       "    <tr>\n",
       "      <th>4</th>\n",
       "      <td>ВЕРНЫЙ, Сеть магазинов</td>\n",
       "      <td>Верный</td>\n",
       "      <td>NaN</td>\n",
       "    </tr>\n",
       "    <tr>\n",
       "      <th>5</th>\n",
       "      <td>Лента, федеральная розничная сеть</td>\n",
       "      <td>Лента, федеральная розничная сеть, Офис</td>\n",
       "      <td>NaN</td>\n",
       "    </tr>\n",
       "    <tr>\n",
       "      <th>6</th>\n",
       "      <td>Леруа Мерлен</td>\n",
       "      <td>Леруа Мерлен. Центральный офис</td>\n",
       "      <td>45000.000000</td>\n",
       "    </tr>\n",
       "    <tr>\n",
       "      <th>7</th>\n",
       "      <td>Пятёрочка</td>\n",
       "      <td>Пятёрочка. Офис</td>\n",
       "      <td>50000.000000</td>\n",
       "    </tr>\n",
       "    <tr>\n",
       "      <th>8</th>\n",
       "      <td>Сбербанк</td>\n",
       "      <td>Сбер для экспертов</td>\n",
       "      <td>70000.000000</td>\n",
       "    </tr>\n",
       "    <tr>\n",
       "      <th>9</th>\n",
       "      <td>Сбербанк</td>\n",
       "      <td>Сбер. IT</td>\n",
       "      <td>116666.666667</td>\n",
       "    </tr>\n",
       "    <tr>\n",
       "      <th>10</th>\n",
       "      <td>Спортмастер</td>\n",
       "      <td>Компания «СПОРТМАСТЕР», SM Lab</td>\n",
       "      <td>NaN</td>\n",
       "    </tr>\n",
       "    <tr>\n",
       "      <th>11</th>\n",
       "      <td>Спортмастер</td>\n",
       "      <td>Компания «СПОРТМАСТЕР», Логистика</td>\n",
       "      <td>NaN</td>\n",
       "    </tr>\n",
       "    <tr>\n",
       "      <th>12</th>\n",
       "      <td>Спортмастер</td>\n",
       "      <td>Компания «СПОРТМАСТЕР», Управление бизнесами</td>\n",
       "      <td>NaN</td>\n",
       "    </tr>\n",
       "  </tbody>\n",
       "</table>\n",
       "</div>"
      ],
      "text/plain": [
       "                        employer_name  \\\n",
       "0                               ANCOR   \n",
       "1                        Avilon Group   \n",
       "2                          HeadHunter   \n",
       "3                          Альфа-Банк   \n",
       "4              ВЕРНЫЙ, Сеть магазинов   \n",
       "5   Лента, федеральная розничная сеть   \n",
       "6                        Леруа Мерлен   \n",
       "7                           Пятёрочка   \n",
       "8                            Сбербанк   \n",
       "9                            Сбербанк   \n",
       "10                        Спортмастер   \n",
       "11                        Спортмастер   \n",
       "12                        Спортмастер   \n",
       "\n",
       "                                 department_name    salary_from  \n",
       "0                                          ANCOR   54787.500000  \n",
       "1                                    ГК «Авилон»  190000.000000  \n",
       "2                                HeadHunter:: IT  170000.000000  \n",
       "3                                     Альфа-Банк            NaN  \n",
       "4                                         Верный            NaN  \n",
       "5        Лента, федеральная розничная сеть, Офис            NaN  \n",
       "6                 Леруа Мерлен. Центральный офис   45000.000000  \n",
       "7                                Пятёрочка. Офис   50000.000000  \n",
       "8                             Сбер для экспертов   70000.000000  \n",
       "9                                       Сбер. IT  116666.666667  \n",
       "10                Компания «СПОРТМАСТЕР», SM Lab            NaN  \n",
       "11             Компания «СПОРТМАСТЕР», Логистика            NaN  \n",
       "12  Компания «СПОРТМАСТЕР», Управление бизнесами            NaN  "
      ]
     },
     "execution_count": 59,
     "metadata": {},
     "output_type": "execute_result"
    }
   ],
   "source": [
    "salaries"
   ]
  },
  {
   "cell_type": "markdown",
   "metadata": {},
   "source": [
    "Вот сводная по указанным зарплатам - можно примерно прикинуть диапазон."
   ]
  },
  {
   "cell_type": "code",
   "execution_count": 60,
   "metadata": {
    "scrolled": true
   },
   "outputs": [
    {
     "data": {
      "image/png": "[encoded data removed]",
      "text/plain": [
       "<Figure size 1440x1080 with 1 Axes>"
      ]
     },
     "metadata": {},
     "output_type": "display_data"
    }
   ],
   "source": [
    "sns.set(style='whitegrid')\n",
    "fig, ax = plt.subplots(sharex=True, sharey=True, figsize=(20,15))                \n",
    "title = 'График зарплат (от)'\n",
    "fig.suptitle(title)\n",
    "plt.xticks(rotation=90)  \n",
    "sns.barplot(data=salaries.\n",
    "            sort_values(by='salary_from', ascending=False), \n",
    "            x='employer_name', y='salary_from', color='lightblue', ax=ax);"
   ]
  },
  {
   "cell_type": "code",
   "execution_count": 61,
   "metadata": {
    "scrolled": true
   },
   "outputs": [
    {
     "data": {
      "image/png": "[encoded data removed]",
      "text/plain": [
       "<Figure size 1440x1080 with 1 Axes>"
      ]
     },
     "metadata": {},
     "output_type": "display_data"
    }
   ],
   "source": [
    "sns.set(style='whitegrid')\n",
    "fig, ax = plt.subplots(sharex=True, sharey=True, figsize=(20,15))                \n",
    "title = 'График зарплат (от)'\n",
    "fig.suptitle(title)\n",
    "plt.xticks(rotation=90)  \n",
    "sns.barplot(\n",
    "    data=salaries.sort_values(by='salary_from', ascending=False), \n",
    "    x='department_name', y='salary_from', color='lightblue', ax=ax);"
   ]
  },
  {
   "cell_type": "markdown",
   "metadata": {},
   "source": [
    "### Отбор по работодателю"
   ]
  },
  {
   "cell_type": "code",
   "execution_count": 62,
   "metadata": {},
   "outputs": [
    {
     "data": {
      "text/plain": [
       "Сбербанк                    130\n",
       "Тинькофф                     93\n",
       "Иннотех, Группа компаний     47\n",
       "билайн                       36\n",
       "Яндекс                       36\n",
       "                           ... \n",
       "Coral Travel                  1\n",
       "Остров Мечты                  1\n",
       "Ника                          1\n",
       "Подружка, сеть магазинов      1\n",
       "Abbott Laboratories           1\n",
       "Name: employer_name, Length: 1311, dtype: int64"
      ]
     },
     "execution_count": 62,
     "metadata": {},
     "output_type": "execute_result"
    }
   ],
   "source": [
    "vacancy_df['employer_name'].value_counts()"
   ]
  },
  {
   "cell_type": "code",
   "execution_count": 63,
   "metadata": {
    "scrolled": true
   },
   "outputs": [
    {
     "name": "stderr",
     "output_type": "stream",
     "text": [
      "<ipython-input-63-d6e1157a5447>:1: UserWarning: Boolean Series key will be reindexed to match DataFrame index.\n",
      "  vacancy_df.dropna(\n"
     ]
    },
    {
     "data": {
      "text/html": [
       "<div>\n",
       "<style scoped>\n",
       "    .dataframe tbody tr th:only-of-type {\n",
       "        vertical-align: middle;\n",
       "    }\n",
       "\n",
       "    .dataframe tbody tr th {\n",
       "        vertical-align: top;\n",
       "    }\n",
       "\n",
       "    .dataframe thead th {\n",
       "        text-align: right;\n",
       "    }\n",
       "</style>\n",
       "<table border=\"1\" class=\"dataframe\">\n",
       "  <thead>\n",
       "    <tr style=\"text-align: right;\">\n",
       "      <th></th>\n",
       "      <th>id</th>\n",
       "      <th>name</th>\n",
       "      <th>has_test</th>\n",
       "      <th>response_letter_required</th>\n",
       "      <th>area</th>\n",
       "      <th>salary</th>\n",
       "      <th>address</th>\n",
       "      <th>published_at</th>\n",
       "      <th>created_at</th>\n",
       "      <th>archived</th>\n",
       "      <th>...</th>\n",
       "      <th>employment</th>\n",
       "      <th>employer_name</th>\n",
       "      <th>department_name</th>\n",
       "      <th>salary_from</th>\n",
       "      <th>salary_to</th>\n",
       "      <th>salary_gross</th>\n",
       "      <th>salary_currency</th>\n",
       "      <th>responses</th>\n",
       "      <th>city</th>\n",
       "      <th>schedule_type</th>\n",
       "    </tr>\n",
       "  </thead>\n",
       "  <tbody>\n",
       "    <tr>\n",
       "      <th>168</th>\n",
       "      <td>52289416</td>\n",
       "      <td>ETL разработчик</td>\n",
       "      <td>False</td>\n",
       "      <td>False</td>\n",
       "      <td>{'id': '4', 'name': 'Новосибирск', 'url': 'htt...</td>\n",
       "      <td>{'from': 70000, 'to': None, 'currency': 'RUR',...</td>\n",
       "      <td>None</td>\n",
       "      <td>2022-02-10T13:59:16+0300</td>\n",
       "      <td>2022-02-10T13:59:16+0300</td>\n",
       "      <td>False</td>\n",
       "      <td>...</td>\n",
       "      <td>NaN</td>\n",
       "      <td>Сбербанк</td>\n",
       "      <td>Сбер для экспертов</td>\n",
       "      <td>70000.0</td>\n",
       "      <td>NaN</td>\n",
       "      <td>False</td>\n",
       "      <td>RUR</td>\n",
       "      <td>3</td>\n",
       "      <td>Новосибирск</td>\n",
       "      <td>fullDay</td>\n",
       "    </tr>\n",
       "    <tr>\n",
       "      <th>185</th>\n",
       "      <td>51019102</td>\n",
       "      <td>Аналитик (Data science)</td>\n",
       "      <td>False</td>\n",
       "      <td>False</td>\n",
       "      <td>{'id': '102', 'name': 'Хабаровск', 'url': 'htt...</td>\n",
       "      <td>{'from': 50000, 'to': None, 'currency': 'RUR',...</td>\n",
       "      <td>None</td>\n",
       "      <td>2022-02-07T09:25:59+0300</td>\n",
       "      <td>2022-02-07T09:25:59+0300</td>\n",
       "      <td>False</td>\n",
       "      <td>...</td>\n",
       "      <td>part</td>\n",
       "      <td>Сбербанк</td>\n",
       "      <td>Сбер. IT</td>\n",
       "      <td>50000.0</td>\n",
       "      <td>NaN</td>\n",
       "      <td>False</td>\n",
       "      <td>RUR</td>\n",
       "      <td>1</td>\n",
       "      <td>Хабаровск</td>\n",
       "      <td>fullDay</td>\n",
       "    </tr>\n",
       "    <tr>\n",
       "      <th>196</th>\n",
       "      <td>50767550</td>\n",
       "      <td>Ведущий системный аналитик</td>\n",
       "      <td>False</td>\n",
       "      <td>False</td>\n",
       "      <td>{'id': '2', 'name': 'Санкт-Петербург', 'url': ...</td>\n",
       "      <td>{'from': 150000, 'to': None, 'currency': 'RUR'...</td>\n",
       "      <td>{'city': 'Санкт-Петербург', 'street': '4 линия...</td>\n",
       "      <td>2022-02-10T15:25:36+0300</td>\n",
       "      <td>2022-02-10T15:25:36+0300</td>\n",
       "      <td>False</td>\n",
       "      <td>...</td>\n",
       "      <td>NaN</td>\n",
       "      <td>Сбербанк</td>\n",
       "      <td>Сбер. IT</td>\n",
       "      <td>150000.0</td>\n",
       "      <td>NaN</td>\n",
       "      <td>True</td>\n",
       "      <td>RUR</td>\n",
       "      <td>4</td>\n",
       "      <td>Санкт-Петербург</td>\n",
       "      <td>fullDay</td>\n",
       "    </tr>\n",
       "    <tr>\n",
       "      <th>1796</th>\n",
       "      <td>52099846</td>\n",
       "      <td>Аналитик витрин данных</td>\n",
       "      <td>False</td>\n",
       "      <td>False</td>\n",
       "      <td>{'id': '1', 'name': 'Москва', 'url': 'https://...</td>\n",
       "      <td>{'from': 150000, 'to': 250000, 'currency': 'RU...</td>\n",
       "      <td>None</td>\n",
       "      <td>2022-02-04T10:29:45+0300</td>\n",
       "      <td>2022-02-04T10:29:45+0300</td>\n",
       "      <td>False</td>\n",
       "      <td>...</td>\n",
       "      <td>NaN</td>\n",
       "      <td>Сбербанк</td>\n",
       "      <td>Сбер. IT</td>\n",
       "      <td>150000.0</td>\n",
       "      <td>250000.0</td>\n",
       "      <td>True</td>\n",
       "      <td>RUR</td>\n",
       "      <td>22</td>\n",
       "      <td>Москва</td>\n",
       "      <td>flexible</td>\n",
       "    </tr>\n",
       "  </tbody>\n",
       "</table>\n",
       "<p>4 rows × 31 columns</p>\n",
       "</div>"
      ],
      "text/plain": [
       "            id                        name  has_test  \\\n",
       "168   52289416             ETL разработчик     False   \n",
       "185   51019102     Аналитик (Data science)     False   \n",
       "196   50767550  Ведущий системный аналитик     False   \n",
       "1796  52099846      Аналитик витрин данных     False   \n",
       "\n",
       "      response_letter_required  \\\n",
       "168                      False   \n",
       "185                      False   \n",
       "196                      False   \n",
       "1796                     False   \n",
       "\n",
       "                                                   area  \\\n",
       "168   {'id': '4', 'name': 'Новосибирск', 'url': 'htt...   \n",
       "185   {'id': '102', 'name': 'Хабаровск', 'url': 'htt...   \n",
       "196   {'id': '2', 'name': 'Санкт-Петербург', 'url': ...   \n",
       "1796  {'id': '1', 'name': 'Москва', 'url': 'https://...   \n",
       "\n",
       "                                                 salary  \\\n",
       "168   {'from': 70000, 'to': None, 'currency': 'RUR',...   \n",
       "185   {'from': 50000, 'to': None, 'currency': 'RUR',...   \n",
       "196   {'from': 150000, 'to': None, 'currency': 'RUR'...   \n",
       "1796  {'from': 150000, 'to': 250000, 'currency': 'RU...   \n",
       "\n",
       "                                                address  \\\n",
       "168                                                None   \n",
       "185                                                None   \n",
       "196   {'city': 'Санкт-Петербург', 'street': '4 линия...   \n",
       "1796                                               None   \n",
       "\n",
       "                  published_at                created_at  archived  ...  \\\n",
       "168   2022-02-10T13:59:16+0300  2022-02-10T13:59:16+0300     False  ...   \n",
       "185   2022-02-07T09:25:59+0300  2022-02-07T09:25:59+0300     False  ...   \n",
       "196   2022-02-10T15:25:36+0300  2022-02-10T15:25:36+0300     False  ...   \n",
       "1796  2022-02-04T10:29:45+0300  2022-02-04T10:29:45+0300     False  ...   \n",
       "\n",
       "     employment employer_name     department_name salary_from salary_to  \\\n",
       "168         NaN      Сбербанк  Сбер для экспертов     70000.0       NaN   \n",
       "185        part      Сбербанк            Сбер. IT     50000.0       NaN   \n",
       "196         NaN      Сбербанк            Сбер. IT    150000.0       NaN   \n",
       "1796        NaN      Сбербанк            Сбер. IT    150000.0  250000.0   \n",
       "\n",
       "     salary_gross salary_currency responses             city  schedule_type  \n",
       "168         False             RUR         3      Новосибирск        fullDay  \n",
       "185         False             RUR         1        Хабаровск        fullDay  \n",
       "196          True             RUR         4  Санкт-Петербург        fullDay  \n",
       "1796         True             RUR        22           Москва       flexible  \n",
       "\n",
       "[4 rows x 31 columns]"
      ]
     },
     "execution_count": 63,
     "metadata": {},
     "output_type": "execute_result"
    }
   ],
   "source": [
    "vacancy_df.dropna(\n",
    "    subset=['employer_name', 'salary_from'])[vacancy_df['employer_name'].str.lower().str.contains('сбербанк')]"
   ]
  },
  {
   "cell_type": "markdown",
   "metadata": {},
   "source": [
    "### Давайте поищем вакансии\n",
    "Отбираю вакансии по актуальным критериям - неполная занятость (любые варианты), удаленка."
   ]
  },
  {
   "cell_type": "code",
   "execution_count": 64,
   "metadata": {},
   "outputs": [
    {
     "data": {
      "text/plain": [
       "full         1973\n",
       "probation      38\n",
       "part            7\n",
       "project         1\n",
       "Name: employment, dtype: int64"
      ]
     },
     "execution_count": 64,
     "metadata": {},
     "output_type": "execute_result"
    }
   ],
   "source": [
    "vacancy_df['employment'].value_counts()"
   ]
  },
  {
   "cell_type": "code",
   "execution_count": 65,
   "metadata": {},
   "outputs": [
    {
     "data": {
      "text/plain": [
       "fullDay        2356\n",
       "remote          749\n",
       "flexible        109\n",
       "shift             6\n",
       "flyInFlyOut       1\n",
       "Name: schedule_type, dtype: int64"
      ]
     },
     "execution_count": 65,
     "metadata": {},
     "output_type": "execute_result"
    }
   ],
   "source": [
    "vacancy_df['schedule_type'].value_counts()"
   ]
  },
  {
   "cell_type": "code",
   "execution_count": 66,
   "metadata": {
    "scrolled": true
   },
   "outputs": [],
   "source": [
    "remote_vacs = vacancy_df.query(\"schedule_type == 'remote'\")"
   ]
  },
  {
   "cell_type": "code",
   "execution_count": 67,
   "metadata": {},
   "outputs": [],
   "source": [
    "selected_vacs = remote_vacs[remote_vacs['employment'] != 'full']"
   ]
  },
  {
   "cell_type": "markdown",
   "metadata": {},
   "source": [
    "Также отбираем только те вакансии, где не требуется опыт или опыт от 1 до 3 лет."
   ]
  },
  {
   "cell_type": "code",
   "execution_count": 68,
   "metadata": {
    "scrolled": true
   },
   "outputs": [],
   "source": [
    "vacs_df = selected_vacs.copy().reset_index(drop=True).query(\n",
    "    \"experience in ['noExperience', 'between1And3']\")"
   ]
  },
  {
   "cell_type": "code",
   "execution_count": 69,
   "metadata": {
    "scrolled": true
   },
   "outputs": [
    {
     "name": "stdout",
     "output_type": "stream",
     "text": [
      "<class 'pandas.core.frame.DataFrame'>\n",
      "Int64Index: 170 entries, 0 to 169\n",
      "Data columns (total 31 columns):\n",
      " #   Column                    Non-Null Count  Dtype  \n",
      "---  ------                    --------------  -----  \n",
      " 0   id                        170 non-null    int64  \n",
      " 1   name                      170 non-null    object \n",
      " 2   has_test                  170 non-null    bool   \n",
      " 3   response_letter_required  170 non-null    bool   \n",
      " 4   area                      170 non-null    object \n",
      " 5   salary                    45 non-null     object \n",
      " 6   address                   51 non-null     object \n",
      " 7   published_at              170 non-null    object \n",
      " 8   created_at                170 non-null    object \n",
      " 9   archived                  170 non-null    bool   \n",
      " 10  apply_alternate_url       170 non-null    object \n",
      " 11  insider_interview         1 non-null      object \n",
      " 12  url                       170 non-null    object \n",
      " 13  alternate_url             170 non-null    object \n",
      " 14  snippet                   170 non-null    object \n",
      " 15  counters                  170 non-null    object \n",
      " 16  working_days              170 non-null    object \n",
      " 17  working_time_intervals    170 non-null    object \n",
      " 18  working_time_modes        170 non-null    object \n",
      " 19  accept_temporary          170 non-null    bool   \n",
      " 20  experience                170 non-null    object \n",
      " 21  employment                13 non-null     object \n",
      " 22  employer_name             170 non-null    object \n",
      " 23  department_name           26 non-null     object \n",
      " 24  salary_from               32 non-null     float64\n",
      " 25  salary_to                 36 non-null     float64\n",
      " 26  salary_gross              45 non-null     object \n",
      " 27  salary_currency           45 non-null     object \n",
      " 28  responses                 170 non-null    int64  \n",
      " 29  city                      170 non-null    object \n",
      " 30  schedule_type             170 non-null    object \n",
      "dtypes: bool(4), float64(2), int64(2), object(23)\n",
      "memory usage: 37.9+ KB\n"
     ]
    }
   ],
   "source": [
    "vacs_df.info()"
   ]
  },
  {
   "cell_type": "code",
   "execution_count": 70,
   "metadata": {
    "scrolled": true
   },
   "outputs": [
    {
     "data": {
      "text/html": [
       "<div>\n",
       "<style scoped>\n",
       "    .dataframe tbody tr th:only-of-type {\n",
       "        vertical-align: middle;\n",
       "    }\n",
       "\n",
       "    .dataframe tbody tr th {\n",
       "        vertical-align: top;\n",
       "    }\n",
       "\n",
       "    .dataframe thead th {\n",
       "        text-align: right;\n",
       "    }\n",
       "</style>\n",
       "<table border=\"1\" class=\"dataframe\">\n",
       "  <thead>\n",
       "    <tr style=\"text-align: right;\">\n",
       "      <th></th>\n",
       "      <th>id</th>\n",
       "      <th>name</th>\n",
       "      <th>has_test</th>\n",
       "      <th>response_letter_required</th>\n",
       "      <th>area</th>\n",
       "      <th>salary</th>\n",
       "      <th>address</th>\n",
       "      <th>published_at</th>\n",
       "      <th>created_at</th>\n",
       "      <th>archived</th>\n",
       "      <th>...</th>\n",
       "      <th>employment</th>\n",
       "      <th>employer_name</th>\n",
       "      <th>department_name</th>\n",
       "      <th>salary_from</th>\n",
       "      <th>salary_to</th>\n",
       "      <th>salary_gross</th>\n",
       "      <th>salary_currency</th>\n",
       "      <th>responses</th>\n",
       "      <th>city</th>\n",
       "      <th>schedule_type</th>\n",
       "    </tr>\n",
       "  </thead>\n",
       "  <tbody>\n",
       "    <tr>\n",
       "      <th>0</th>\n",
       "      <td>43021947</td>\n",
       "      <td>Стажер аналитик-проектировщик (удаленно)</td>\n",
       "      <td>True</td>\n",
       "      <td>False</td>\n",
       "      <td>{'id': '66', 'name': 'Нижний Новгород', 'url':...</td>\n",
       "      <td>None</td>\n",
       "      <td>None</td>\n",
       "      <td>2022-02-11T10:26:48+0300</td>\n",
       "      <td>2022-02-11T10:26:48+0300</td>\n",
       "      <td>False</td>\n",
       "      <td>...</td>\n",
       "      <td>probation</td>\n",
       "      <td>Финансовые Информационные Системы</td>\n",
       "      <td>NaN</td>\n",
       "      <td>NaN</td>\n",
       "      <td>NaN</td>\n",
       "      <td>NaN</td>\n",
       "      <td>NaN</td>\n",
       "      <td>2</td>\n",
       "      <td>Нижний Новгород</td>\n",
       "      <td>remote</td>\n",
       "    </tr>\n",
       "    <tr>\n",
       "      <th>1</th>\n",
       "      <td>43021951</td>\n",
       "      <td>Стажер аналитик-проектировщик (удаленно)</td>\n",
       "      <td>True</td>\n",
       "      <td>False</td>\n",
       "      <td>{'id': '78', 'name': 'Самара', 'url': 'https:/...</td>\n",
       "      <td>None</td>\n",
       "      <td>None</td>\n",
       "      <td>2022-02-11T10:26:48+0300</td>\n",
       "      <td>2022-02-11T10:26:48+0300</td>\n",
       "      <td>False</td>\n",
       "      <td>...</td>\n",
       "      <td>probation</td>\n",
       "      <td>Финансовые Информационные Системы</td>\n",
       "      <td>NaN</td>\n",
       "      <td>NaN</td>\n",
       "      <td>NaN</td>\n",
       "      <td>NaN</td>\n",
       "      <td>NaN</td>\n",
       "      <td>1</td>\n",
       "      <td>Самара</td>\n",
       "      <td>remote</td>\n",
       "    </tr>\n",
       "    <tr>\n",
       "      <th>2</th>\n",
       "      <td>46873010</td>\n",
       "      <td>Стажер аналитик-проектировщик (удаленно)</td>\n",
       "      <td>True</td>\n",
       "      <td>False</td>\n",
       "      <td>{'id': '88', 'name': 'Казань', 'url': 'https:/...</td>\n",
       "      <td>{'from': 30000, 'to': None, 'currency': 'RUR',...</td>\n",
       "      <td>None</td>\n",
       "      <td>2022-02-09T10:00:20+0300</td>\n",
       "      <td>2022-02-09T10:00:20+0300</td>\n",
       "      <td>False</td>\n",
       "      <td>...</td>\n",
       "      <td>probation</td>\n",
       "      <td>Финансовые Информационные Системы</td>\n",
       "      <td>NaN</td>\n",
       "      <td>30000.0</td>\n",
       "      <td>NaN</td>\n",
       "      <td>False</td>\n",
       "      <td>RUR</td>\n",
       "      <td>25</td>\n",
       "      <td>Казань</td>\n",
       "      <td>remote</td>\n",
       "    </tr>\n",
       "    <tr>\n",
       "      <th>3</th>\n",
       "      <td>51661612</td>\n",
       "      <td>BI developer</td>\n",
       "      <td>False</td>\n",
       "      <td>False</td>\n",
       "      <td>{'id': '1', 'name': 'Москва', 'url': 'https://...</td>\n",
       "      <td>{'from': 130000, 'to': 230000, 'currency': 'RU...</td>\n",
       "      <td>None</td>\n",
       "      <td>2022-02-06T15:44:07+0300</td>\n",
       "      <td>2022-02-06T15:44:07+0300</td>\n",
       "      <td>False</td>\n",
       "      <td>...</td>\n",
       "      <td>NaN</td>\n",
       "      <td>Finstar Financial Group</td>\n",
       "      <td>NaN</td>\n",
       "      <td>130000.0</td>\n",
       "      <td>230000.0</td>\n",
       "      <td>False</td>\n",
       "      <td>RUR</td>\n",
       "      <td>16</td>\n",
       "      <td>Москва</td>\n",
       "      <td>remote</td>\n",
       "    </tr>\n",
       "    <tr>\n",
       "      <th>4</th>\n",
       "      <td>51011583</td>\n",
       "      <td>Младший системный аналитик</td>\n",
       "      <td>False</td>\n",
       "      <td>False</td>\n",
       "      <td>{'id': '72', 'name': 'Пермь', 'url': 'https://...</td>\n",
       "      <td>None</td>\n",
       "      <td>None</td>\n",
       "      <td>2022-02-09T10:57:25+0300</td>\n",
       "      <td>2022-02-09T10:57:25+0300</td>\n",
       "      <td>False</td>\n",
       "      <td>...</td>\n",
       "      <td>NaN</td>\n",
       "      <td>ОТР</td>\n",
       "      <td>NaN</td>\n",
       "      <td>NaN</td>\n",
       "      <td>NaN</td>\n",
       "      <td>NaN</td>\n",
       "      <td>NaN</td>\n",
       "      <td>54</td>\n",
       "      <td>Пермь</td>\n",
       "      <td>remote</td>\n",
       "    </tr>\n",
       "  </tbody>\n",
       "</table>\n",
       "<p>5 rows × 31 columns</p>\n",
       "</div>"
      ],
      "text/plain": [
       "         id                                      name  has_test  \\\n",
       "0  43021947  Стажер аналитик-проектировщик (удаленно)      True   \n",
       "1  43021951  Стажер аналитик-проектировщик (удаленно)      True   \n",
       "2  46873010  Стажер аналитик-проектировщик (удаленно)      True   \n",
       "3  51661612                              BI developer     False   \n",
       "4  51011583                Младший системный аналитик     False   \n",
       "\n",
       "   response_letter_required  \\\n",
       "0                     False   \n",
       "1                     False   \n",
       "2                     False   \n",
       "3                     False   \n",
       "4                     False   \n",
       "\n",
       "                                                area  \\\n",
       "0  {'id': '66', 'name': 'Нижний Новгород', 'url':...   \n",
       "1  {'id': '78', 'name': 'Самара', 'url': 'https:/...   \n",
       "2  {'id': '88', 'name': 'Казань', 'url': 'https:/...   \n",
       "3  {'id': '1', 'name': 'Москва', 'url': 'https://...   \n",
       "4  {'id': '72', 'name': 'Пермь', 'url': 'https://...   \n",
       "\n",
       "                                              salary address  \\\n",
       "0                                               None    None   \n",
       "1                                               None    None   \n",
       "2  {'from': 30000, 'to': None, 'currency': 'RUR',...    None   \n",
       "3  {'from': 130000, 'to': 230000, 'currency': 'RU...    None   \n",
       "4                                               None    None   \n",
       "\n",
       "               published_at                created_at  archived  ...  \\\n",
       "0  2022-02-11T10:26:48+0300  2022-02-11T10:26:48+0300     False  ...   \n",
       "1  2022-02-11T10:26:48+0300  2022-02-11T10:26:48+0300     False  ...   \n",
       "2  2022-02-09T10:00:20+0300  2022-02-09T10:00:20+0300     False  ...   \n",
       "3  2022-02-06T15:44:07+0300  2022-02-06T15:44:07+0300     False  ...   \n",
       "4  2022-02-09T10:57:25+0300  2022-02-09T10:57:25+0300     False  ...   \n",
       "\n",
       "  employment                      employer_name department_name salary_from  \\\n",
       "0  probation  Финансовые Информационные Системы             NaN         NaN   \n",
       "1  probation  Финансовые Информационные Системы             NaN         NaN   \n",
       "2  probation  Финансовые Информационные Системы             NaN     30000.0   \n",
       "3        NaN            Finstar Financial Group             NaN    130000.0   \n",
       "4        NaN                                ОТР             NaN         NaN   \n",
       "\n",
       "  salary_to salary_gross salary_currency responses             city  \\\n",
       "0       NaN          NaN             NaN         2  Нижний Новгород   \n",
       "1       NaN          NaN             NaN         1           Самара   \n",
       "2       NaN        False             RUR        25           Казань   \n",
       "3  230000.0        False             RUR        16           Москва   \n",
       "4       NaN          NaN             NaN        54            Пермь   \n",
       "\n",
       "   schedule_type  \n",
       "0         remote  \n",
       "1         remote  \n",
       "2         remote  \n",
       "3         remote  \n",
       "4         remote  \n",
       "\n",
       "[5 rows x 31 columns]"
      ]
     },
     "execution_count": 70,
     "metadata": {},
     "output_type": "execute_result"
    }
   ],
   "source": [
    "vacs_df.head()"
   ]
  },
  {
   "cell_type": "code",
   "execution_count": 71,
   "metadata": {
    "scrolled": true
   },
   "outputs": [
    {
     "data": {
      "text/plain": [
       "0    https://api.hh.ru/vacancies/43021947?host=hh.ru\n",
       "1    https://api.hh.ru/vacancies/43021951?host=hh.ru\n",
       "2    https://api.hh.ru/vacancies/46873010?host=hh.ru\n",
       "3    https://api.hh.ru/vacancies/51661612?host=hh.ru\n",
       "4    https://api.hh.ru/vacancies/51011583?host=hh.ru\n",
       "Name: url, dtype: object"
      ]
     },
     "execution_count": 71,
     "metadata": {},
     "output_type": "execute_result"
    }
   ],
   "source": [
    "vacs_df['url'].head()"
   ]
  },
  {
   "cell_type": "markdown",
   "metadata": {},
   "source": [
    "### Посмотрим содержание вакансий"
   ]
  },
  {
   "cell_type": "markdown",
   "metadata": {},
   "source": [
    "Сохраним информацию в читаемом виде"
   ]
  },
  {
   "cell_type": "code",
   "execution_count": 72,
   "metadata": {
    "scrolled": true
   },
   "outputs": [
    {
     "data": {
      "text/html": [
       "<p>Привет! Мы занимаемся разработкой и внедрением систем, автоматизирующих бизнес-процессы заказчика на базе конструктора Case Platform. Если тебе интересен и <strong>процесс разработки приложений </strong>и <strong>системный анализ</strong>, то мы ждем именно тебя)</p> <p>Наши основные клиенты банки ТОП-100 РФ: Газпромбанк, Банк Открытие, Райффайзенбанк, Совкомбанк, Банк Россия, АК БАРС Банк, Почта Банк и многие другие. Кроме ФинТех разрабатываем решения для автоматизации крупных корпораций и госструктур. В их числе: Русатом Сервис, Почта России, аэропорт Шереметьево.</p> <p><strong>Стажировка и дальнейшая работа у нас - это:</strong></p> <ul> <li>Участие в проектах создания и внедрения автоматизированных систем в команде коллег</li> <li>Разработка и настройка схем данных, бизнес-процессов, пользовательских форм, алгоритмов и отчетов</li> <li>Тестирование функциональности приложений и поддержка их работоспособности</li> <li>Возможность совмещать работу с учебой на последних курсах</li> <li>Обмен идеями и опытом с профессионалами</li> </ul> <p><strong>Чем тебе придется заниматься:</strong></p> <ul> <li>Настройка модели данных</li> <li>Настройка процессов и написание скриптов</li> <li>Разработка пользовательского интерфейса;</li> <li>Настройка интеграций: web-сервисы, внешние БД</li> <li>Коммуникации с заказчиком, выявление требований и анализ доработок;</li> <li>Работа с требованиями: участие в предпроектном обследовании (вместе с ведущим аналитиком-проектировщиком), написание функциональных требований и пользовательской документации;</li> <li>Работа с БД (Oracle, PostgreSQL, MS SQL): написание и оптимизация SQL-запросов</li> </ul> <p><strong>Что мы ожидаем от тебя:</strong></p> <ul> <li>Представление о любом языке программирования, практический опыт - хотя бы на уровне студенческих работ</li> <li>Базовые знания SQL</li> <li>Профильное образование (техническое, математическое, экономическое в сфере IT)</li> <li>Аналитический склад ума, умение мыслить структурированно</li> <li>Способность работать как в команде, так и самостоятельно</li> <li>Готовность учиться, осваивать новый инструментарий и применять свои знания</li> <li>Ответственность и внимательность</li> </ul> <p><strong>Будет преимуществом:</strong></p> <ul> <li>Практический опыт работы с JavaScript</li> <li>Базовые знания любой нотации описания бизнес-процессов</li> </ul> <p><strong>Мы предлагаем:</strong></p> <ul> <li>Стажировку, где научим работать с нашими продуктами</li> <li>Гибкий график и возможность совмещать работу с учебой (работа от 30 часов в неделю или 4 рабочих дня)</li> <li>Рост заработной платы вместе с ростом квалификации</li> </ul> <p><strong>А также:</strong></p> <ul> <li>Возможности профессионального роста и обмен опытом</li> <li>Возможность участия в жизни компании</li> </ul> <p><strong>Интересно? Отправляй свое резюме, и мы обязательно с тобой свяжемся!</strong></p>"
      ],
      "text/plain": [
       "<IPython.core.display.HTML object>"
      ]
     },
     "execution_count": 72,
     "metadata": {},
     "output_type": "execute_result"
    }
   ],
   "source": [
    "HTML(json.loads(requests.get('https://api.hh.ru/vacancies/43021951?host=hh.ru').text)['description'])"
   ]
  },
  {
   "cell_type": "code",
   "execution_count": 73,
   "metadata": {},
   "outputs": [],
   "source": [
    "vacs = vacs_df['url'].apply(lambda x: HTML(json.loads(requests.get(x).text)['description']))"
   ]
  },
  {
   "cell_type": "code",
   "execution_count": 74,
   "metadata": {},
   "outputs": [
    {
     "data": {
      "text/plain": [
       "0      <IPython.core.display.HTML object>\n",
       "1      <IPython.core.display.HTML object>\n",
       "2      <IPython.core.display.HTML object>\n",
       "3      <IPython.core.display.HTML object>\n",
       "4      <IPython.core.display.HTML object>\n",
       "                      ...                \n",
       "165    <IPython.core.display.HTML object>\n",
       "166    <IPython.core.display.HTML object>\n",
       "167    <IPython.core.display.HTML object>\n",
       "168    <IPython.core.display.HTML object>\n",
       "169    <IPython.core.display.HTML object>\n",
       "Name: url, Length: 170, dtype: object"
      ]
     },
     "execution_count": 74,
     "metadata": {},
     "output_type": "execute_result"
    }
   ],
   "source": [
    "vacs"
   ]
  },
  {
   "cell_type": "markdown",
   "metadata": {},
   "source": [
    "### Добавим кнопку"
   ]
  },
  {
   "cell_type": "code",
   "execution_count": 3,
   "metadata": {},
   "outputs": [
    {
     "data": {
      "application/vnd.jupyter.widget-view+json": {
       "model_id": "93a9c7b7620a428aaed5d87c323c6d4b",
       "version_major": 2,
       "version_minor": 0
      },
      "text/plain": [
       "Button(description='Click Me', style=ButtonStyle())"
      ]
     },
     "metadata": {},
     "output_type": "display_data"
    },
    {
     "data": {
      "application/vnd.jupyter.widget-view+json": {
       "model_id": "1cb8971b12e84243af6b0d9a4d34e371",
       "version_major": 2,
       "version_minor": 0
      },
      "text/plain": [
       "Output()"
      ]
     },
     "metadata": {},
     "output_type": "display_data"
    }
   ],
   "source": [
    "button = widgets.Button(description=\"Click Me\")\n",
    "output = widgets.Output()\n",
    "\n",
    "display(button, output)\n",
    "\n",
    "counter = 0\n",
    "def on_clicked(b):\n",
    "    with output:\n",
    "        try:\n",
    "            global counter\n",
    "            clear_output()\n",
    "            print('№ вакансии', counter)\n",
    "            display(HTML(\"<h1>\" + str(vacs_df['name'][counter] + ' в ' + str(vacs_df['employer_name'][counter]) + \"</h1>\")))\n",
    "            display(vacs[counter])\n",
    "            display(HTML('<a href=\"' + str(vacs_df['alternate_url'][counter] + '\" target=\"_blank\">Ссылка на вакансию</a>')))\n",
    "            counter += 1\n",
    "        except Exception as e:\n",
    "            ('Вакансии закончились')\n",
    "\n",
    "button.on_click(on_clicked)"
   ]
  },
  {
   "cell_type": "markdown",
   "metadata": {},
   "source": [
    "С помощью библиотеки BeautifulSoup извлечем данные из HTML"
   ]
  },
  {
   "cell_type": "code",
   "execution_count": 76,
   "metadata": {
    "scrolled": true
   },
   "outputs": [],
   "source": [
    "from bs4 import BeautifulSoup\n",
    "text = vacs_df['url'].apply(lambda x: BeautifulSoup(json.loads(requests.get(x).text)['description']).get_text())"
   ]
  },
  {
   "cell_type": "code",
   "execution_count": 77,
   "metadata": {},
   "outputs": [
    {
     "data": {
      "text/plain": [
       "'Finstar Financial Group – крупный международный холдинг, в который входят компании по всему миру. Основной бизнес – онлайн кредитование до банковского сегмента. Мы – амбициозная, дружная и активная команда, которая работает над современным финансовым сервисом. Сейчас мы фокусируемся на проектах для стран Юго-Восточной Азии. В связи с динамичным развитием мы ищем в команду нового BI developer. Чем предстоит заниматься:   Взаимодействие с бизнес-заказчиками по вопросам Finance и Risk отчетности, анализ требований;   Разработка витрин данных в DWH и отчетности в Power BI;   Написание различной сложности SQL скриптов, оптимизация SQL скриптов;   Возможно использование Python в целях автоматизации и организации ETL процессов (мы используем Airflow).   Тебе подойдет вакансия, если ты:  Выпускник с математическим/техническим/экономическим образованием или имеешь релевантный опыт в кредитных организациях; Имеешь опыт работы с Power BI или иным BI инструментом; Имеешь опыт оптимизации SQL скриптов и разработки хранимых процедур; Согласен на релокацию в Азию (город Хошимин, Вьетнам) через 3-6 месяцев от даты начала работы.  Мы предлагаем:   Возможность проявить себя, поднять с нуля фундаментальные витрины и отчеты;   Отсутствие бюрократии, высокая степень свободы. Решения принимаются очень быстро;  Работу из любой точки мира с дальнейшим переездом в благоприятный район Хошимина (Вьетнам); Компенсацию расходов на релокацию и расширенную медицинскую страховку; Прозрачную систему мотивации: белая ЗП + премии по результатам выполнения KPI; Перспективы карьерного роста, прямое влияние на бизнес и возможность использовать новейшие технологии. '"
      ]
     },
     "execution_count": 77,
     "metadata": {},
     "output_type": "execute_result"
    }
   ],
   "source": [
    "text[3]"
   ]
  },
  {
   "cell_type": "code",
   "execution_count": null,
   "metadata": {},
   "outputs": [],
   "source": []
  }
 ],
 "metadata": {
  "kernelspec": {
   "display_name": "Python 3",
   "language": "python",
   "name": "python3"
  },
  "language_info": {
   "codemirror_mode": {
    "name": "ipython",
    "version": 3
   },
   "file_extension": ".py",
   "mimetype": "text/x-python",
   "name": "python",
   "nbconvert_exporter": "python",
   "pygments_lexer": "ipython3",
   "version": "3.8.8"
  },
  "toc": {
   "base_numbering": 1,
   "nav_menu": {},
   "number_sections": true,
   "sideBar": true,
   "skip_h1_title": false,
   "title_cell": "Table of Contents",
   "title_sidebar": "Contents",
   "toc_cell": false,
   "toc_position": {
    "height": "calc(100% - 180px)",
    "left": "10px",
    "top": "150px",
    "width": "277.398px"
   },
   "toc_section_display": true,
   "toc_window_display": true
  }
 },
 "nbformat": 4,
 "nbformat_minor": 4
}
